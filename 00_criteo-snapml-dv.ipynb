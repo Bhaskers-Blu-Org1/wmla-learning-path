{
 "cells": [
  {
   "cell_type": "code",
   "execution_count": 1,
   "metadata": {},
   "outputs": [
    {
     "name": "stdout",
     "output_type": "stream",
     "text": [
      "--2020-05-12 22:10:56--  https://ibm.box.com/shared/static/6ti02ne1l9xil9qr8tpz666pbd2zink3\n",
      "Resolving ibm.box.com (ibm.box.com)... 107.152.29.197\n",
      "Connecting to ibm.box.com (ibm.box.com)|107.152.29.197|:443... connected.\n",
      "HTTP request sent, awaiting response... 301 Moved Permanently\n",
      "Location: /public/static/6ti02ne1l9xil9qr8tpz666pbd2zink3 [following]\n",
      "--2020-05-12 22:10:57--  https://ibm.box.com/public/static/6ti02ne1l9xil9qr8tpz666pbd2zink3\n",
      "Reusing existing connection to ibm.box.com:443.\n",
      "HTTP request sent, awaiting response... 301 Moved Permanently\n",
      "Location: https://ibm.ent.box.com/public/static/6ti02ne1l9xil9qr8tpz666pbd2zink3 [following]\n",
      "--2020-05-12 22:10:57--  https://ibm.ent.box.com/public/static/6ti02ne1l9xil9qr8tpz666pbd2zink3\n",
      "Resolving ibm.ent.box.com (ibm.ent.box.com)... 107.152.25.211\n",
      "Connecting to ibm.ent.box.com (ibm.ent.box.com)|107.152.25.211|:443... connected.\n",
      "HTTP request sent, awaiting response... 302 Found\n",
      "Location: https://public.boxcloud.com/d/1/b1!xHO5WOvoQ6-Vo_38eYNxa5SDhZ3Fq6X8wwaZ5piBM5kGd42fHDi5JI0PCnIxT834n4fHPwmnyK4wa2UQNXQQiueekFDq9atg4vlhXIDUr7kTIqA4cNCnWl7Ob_DDJk8GpFUUEI4BY84Bhhwq9vWvqGpXs027XX_TBTrITt2uVvozhlXoJfOCAiqa_CYsYW2Ay_YeuOMfDHUmRDgacYKmPd2anjEMHHrVAbcAPY8PUBMnzlJba-sY-7CQyyCl6VXkQOeLzuD4ZFOjUy3BWu02TXZ7w3-90I1AFx--ckFMzHCUrZIfnExynbcoW_doA1ZtlyB4QfiaJ5BiOhv9dlBBD4fQXI8ZPOmqnKokaibnlIu4cFpxbySHYx3arBi6YTUUq4qoRn8lPLrmk2MZvfxvquHGkSd3qhz9nmtl9V4JjEfM6lsSe6yHEfmx7th36yi8bxIfb1r1Uwhxjiym5BaUOITBMbH54yOaDhdsDklWFva_RPKyZMP8xhAqcZDIXyAflF996B-iwqHds65S6HJIyxP6D9y7SQqvqWrQ-nO5jmpYWeJuJWW3qvmWIpVyOfiB_ux6lCdNFjACEPmQvx8_pHdr5qT5jWaPG3N_-Pk7Mx9_wZ8txw31R1czbqumf4udxnxEJSMuX6yzH5milNMByvjMn_ZHi1EoJFp4KQtq14Be3RPNgY9kenKyZLNdjfnizKJTSvPcrBkIFpJrlQ1deyk3p61iUAj1hZZVhmu4QwM8UDS7UExUPEBbtRG7G3G446Mzp24p-RAtr61yGoXjsjkBWHJgE4trVglGCX9ZgqgmVaCH0gOj8kHYPHNvBsdcn1ebxX28qAkzWb8B3odpIFQgSlM5-U_PvzQxUorGMoof7OEfwQR9tMIWQPCBWth9gnkNbEidyYIirs1NfrVYXevMm0qrqV_yayq4pWHqwcU-UHyq2b59-CyrwmK4X596lgTHcmPiW0vvvXHHVfYRhV39Vv4IUyGeojHGeSUHKJV1P8zAnuvAwWp3yg9naKDamenUAn-AlE7hXg2sfdFpgDj5Dbjx6CBpDTL5JPpZsKWo6DnJ6XuWaBWiTK_t2xi4T5GemOT8e3HjxO4PykeOBlz45mUVOYIVBuIFm26lEcsG4wI-ds9sw-bqJhzBnFsBxZGlMAJuVcqsbDSvPBSlJ9j533_4sBFQQrHfEZw8HqQh4tlm9C5BfLRceVedAq-5wPYZqONbC1woomFCryhW0gVyU4GSjRuSAbq2MNcapb5zlyUmyehVXzaSYxYOTZsDOLa7V80-ZnDVLf3Z6OVfMm81FLzKiMZs3WSO3wtQ-ygXHlv3U1xpR6_XVFWlHAkov8iIhoKzTU63pHt-msOHRgOS-Zqadi_rXnagyjf1VKE9-c3YRlE6tk1BzvJoSo-bMHryfxSSHuDP6mGR5OXot5trVMZiAQ../download [following]\n",
      "--2020-05-12 22:10:57--  https://public.boxcloud.com/d/1/b1!xHO5WOvoQ6-Vo_38eYNxa5SDhZ3Fq6X8wwaZ5piBM5kGd42fHDi5JI0PCnIxT834n4fHPwmnyK4wa2UQNXQQiueekFDq9atg4vlhXIDUr7kTIqA4cNCnWl7Ob_DDJk8GpFUUEI4BY84Bhhwq9vWvqGpXs027XX_TBTrITt2uVvozhlXoJfOCAiqa_CYsYW2Ay_YeuOMfDHUmRDgacYKmPd2anjEMHHrVAbcAPY8PUBMnzlJba-sY-7CQyyCl6VXkQOeLzuD4ZFOjUy3BWu02TXZ7w3-90I1AFx--ckFMzHCUrZIfnExynbcoW_doA1ZtlyB4QfiaJ5BiOhv9dlBBD4fQXI8ZPOmqnKokaibnlIu4cFpxbySHYx3arBi6YTUUq4qoRn8lPLrmk2MZvfxvquHGkSd3qhz9nmtl9V4JjEfM6lsSe6yHEfmx7th36yi8bxIfb1r1Uwhxjiym5BaUOITBMbH54yOaDhdsDklWFva_RPKyZMP8xhAqcZDIXyAflF996B-iwqHds65S6HJIyxP6D9y7SQqvqWrQ-nO5jmpYWeJuJWW3qvmWIpVyOfiB_ux6lCdNFjACEPmQvx8_pHdr5qT5jWaPG3N_-Pk7Mx9_wZ8txw31R1czbqumf4udxnxEJSMuX6yzH5milNMByvjMn_ZHi1EoJFp4KQtq14Be3RPNgY9kenKyZLNdjfnizKJTSvPcrBkIFpJrlQ1deyk3p61iUAj1hZZVhmu4QwM8UDS7UExUPEBbtRG7G3G446Mzp24p-RAtr61yGoXjsjkBWHJgE4trVglGCX9ZgqgmVaCH0gOj8kHYPHNvBsdcn1ebxX28qAkzWb8B3odpIFQgSlM5-U_PvzQxUorGMoof7OEfwQR9tMIWQPCBWth9gnkNbEidyYIirs1NfrVYXevMm0qrqV_yayq4pWHqwcU-UHyq2b59-CyrwmK4X596lgTHcmPiW0vvvXHHVfYRhV39Vv4IUyGeojHGeSUHKJV1P8zAnuvAwWp3yg9naKDamenUAn-AlE7hXg2sfdFpgDj5Dbjx6CBpDTL5JPpZsKWo6DnJ6XuWaBWiTK_t2xi4T5GemOT8e3HjxO4PykeOBlz45mUVOYIVBuIFm26lEcsG4wI-ds9sw-bqJhzBnFsBxZGlMAJuVcqsbDSvPBSlJ9j533_4sBFQQrHfEZw8HqQh4tlm9C5BfLRceVedAq-5wPYZqONbC1woomFCryhW0gVyU4GSjRuSAbq2MNcapb5zlyUmyehVXzaSYxYOTZsDOLa7V80-ZnDVLf3Z6OVfMm81FLzKiMZs3WSO3wtQ-ygXHlv3U1xpR6_XVFWlHAkov8iIhoKzTU63pHt-msOHRgOS-Zqadi_rXnagyjf1VKE9-c3YRlE6tk1BzvJoSo-bMHryfxSSHuDP6mGR5OXot5trVMZiAQ../download\n",
      "Resolving public.boxcloud.com (public.boxcloud.com)... 107.152.26.200\n",
      "Connecting to public.boxcloud.com (public.boxcloud.com)|107.152.26.200|:443... connected.\n",
      "HTTP request sent, awaiting response... 200 OK\n",
      "Length: 5833621 (5.6M) [application/octet-stream]\n",
      "Saving to: 'small.criteo.kaggle2014.train.svm'\n",
      "\n",
      "100%[======================================>] 5,833,621   15.3MB/s   in 0.4s   \n",
      "\n",
      "2020-05-12 22:10:58 (15.3 MB/s) - 'small.criteo.kaggle2014.train.svm' saved [5833621/5833621]\n",
      "\n"
     ]
    }
   ],
   "source": [
    "# Create directory to store the dataset\n",
    "dataset_path='./dataset/'\n",
    "dataset_filename='small.criteo.kaggle2014.train.svm'\n",
    "\n",
    "!mkdir -p $dataset_path\n",
    "\n",
    "# Retrieve the example small dataset (Criteo 2014)  \n",
    "!cd $dataset_path && wget -v -O small.criteo.kaggle2014.train.svm -L https://ibm.box.com/shared/static/6ti02ne1l9xil9qr8tpz666pbd2zink3"
   ]
  },
  {
   "cell_type": "code",
   "execution_count": null,
   "metadata": {},
   "outputs": [],
   "source": [
    "import sys\n",
    "sys.path.append(\"/opt/conductor/team01/anaconda3/anaconda/envs/powerai170-team01/snap-ml-spark/lib/snap-ml-spark_23-v1.6.0.jar\")"
   ]
  }
 ],
 "metadata": {
  "kernelspec": {
   "display_name": "Spark Python (Spark Cluster Mode)",
   "language": "python",
   "name": "spark_python_conductor_cluster"
  },
  "language_info": {
   "codemirror_mode": {
    "name": "ipython",
    "version": 3
   },
   "file_extension": ".py",
   "mimetype": "text/x-python",
   "name": "python",
   "nbconvert_exporter": "python",
   "pygments_lexer": "ipython3",
   "version": "3.6.10"
  }
 },
 "nbformat": 4,
 "nbformat_minor": 4
}
